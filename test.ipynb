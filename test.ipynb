{
 "cells": [
  {
   "cell_type": "code",
   "execution_count": 4,
   "metadata": {},
   "outputs": [
    {
     "name": "stdout",
     "output_type": "stream",
     "text": [
      "Optimal matrix Q: [[-9.99999994e-01 -3.58600700e-07  1.33659901e-06 -3.77346701e-06\n",
      "   8.85703364e-07  1.35268591e-06  1.65291485e-06  1.26560000e-06\n",
      "   1.09421214e-04 -1.65152819e-06]\n",
      " [ 3.58418766e-07 -1.00000000e+00  2.11908395e-06  5.41346503e-06\n",
      "  -4.07770273e-06  1.26136307e-06  1.38943078e-06 -3.78949199e-07\n",
      "  -1.51004530e-06 -5.92375032e-07]\n",
      " [-1.33640065e-06 -2.11909175e-06 -1.00000000e+00 -6.01147638e-07\n",
      "   1.64039988e-06  2.10567719e-06  1.59722533e-06  1.38774861e-06\n",
      "   1.68495480e-06 -1.37561322e-06]\n",
      " [ 3.77360585e-06 -5.41346906e-06  6.01159075e-07 -1.00000000e+00\n",
      "   1.65021272e-06  1.61128816e-06  1.12984280e-06 -5.22040032e-07\n",
      "   1.24617743e-06  3.10542988e-06]\n",
      " [-8.85567933e-07  4.07769180e-06 -1.64039999e-06 -1.65023142e-06\n",
      "  -1.00000000e+00  1.35204285e-06  1.62781140e-06 -8.98627959e-08\n",
      "   1.18449394e-06  6.96785909e-07]\n",
      " [-1.35252427e-06 -1.26137150e-06 -2.10566625e-06 -1.61129275e-06\n",
      "  -1.35203872e-06 -1.00000000e+00  9.45736035e-07  1.15194159e-06\n",
      "   1.40228012e-06 -1.62036462e-06]\n",
      " [-1.65268687e-06 -1.38944142e-06 -1.59722322e-06 -1.12983366e-06\n",
      "  -1.62780751e-06 -9.45725612e-07 -1.00000000e+00  1.69801309e-06\n",
      "   2.11958306e-06  3.62761143e-06]\n",
      " [-1.26548158e-06  3.78943487e-07 -1.38774935e-06  5.22026207e-07\n",
      "   8.98630161e-08 -1.15193635e-06 -1.69801116e-06 -1.00000000e+00\n",
      "   1.13848923e-06 -1.27398511e-06]\n",
      " [-1.09421217e-04  1.50999724e-06 -1.68481870e-06 -1.24661044e-06\n",
      "  -1.18439240e-06 -1.40212762e-06 -2.11940461e-06 -1.13834137e-06\n",
      "  -9.99999994e-01 -1.57835396e-06]\n",
      " [-1.65171142e-06 -5.92358707e-07 -1.37561253e-06  3.10542736e-06\n",
      "   6.96784047e-07 -1.62036493e-06  3.62760856e-06 -1.27398574e-06\n",
      "  -1.57818048e-06  1.00000000e+00]]\n"
     ]
    }
   ],
   "source": [
    "import numpy as np\n",
    "from scipy.optimize import minimize\n",
    "from scipy.linalg import qr\n",
    "\n",
    "def cost_function(Q_flat):\n",
    "    Q = Q_flat.reshape((10, 10))\n",
    "    # Ensure Q remains orthogonal\n",
    "    Q, _ = qr(Q)  # QR decomposition for re-orthogonalization\n",
    "    A = np.random.randn(10, 10)\n",
    "    A = A.T @ A  # Making A symmetric\n",
    "    return np.trace(Q.T @ A @ Q)\n",
    "\n",
    "# Initial guess (needs to be orthogonal)\n",
    "Q0 = np.eye(10)\n",
    "Q0_flat = Q0.flatten()\n",
    "\n",
    "# Optimization using Nelder-Mead\n",
    "result = minimize(cost_function, Q0_flat, method='Nelder-Mead')\n",
    "\n",
    "# Reshape the result back into a matrix\n",
    "Q_opt = result.x.reshape((10, 10))\n",
    "Q_opt, _ = qr(Q_opt)  # Ensure the result is orthogonal\n",
    "\n",
    "print(\"Optimal matrix Q:\", Q_opt)\n"
   ]
  },
  {
   "cell_type": "code",
   "execution_count": null,
   "metadata": {},
   "outputs": [],
   "source": [
    "import pyscf.grad.casscf"
   ]
  }
 ],
 "metadata": {
  "kernelspec": {
   "display_name": "ML_DFT",
   "language": "python",
   "name": "python3"
  },
  "language_info": {
   "codemirror_mode": {
    "name": "ipython",
    "version": 3
   },
   "file_extension": ".py",
   "mimetype": "text/x-python",
   "name": "python",
   "nbconvert_exporter": "python",
   "pygments_lexer": "ipython3",
   "version": "3.8.19"
  }
 },
 "nbformat": 4,
 "nbformat_minor": 2
}
