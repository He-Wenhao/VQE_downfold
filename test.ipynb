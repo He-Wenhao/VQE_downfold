{
 "cells": [
  {
   "cell_type": "code",
   "execution_count": 2,
   "metadata": {},
   "outputs": [
    {
     "name": "stdout",
     "output_type": "stream",
     "text": [
      "converged SCF energy = -2.09789961208328\n",
      "Molecular Orbital Coefficients:\n",
      "[[ 0.23423487  0.54557077  0.90877516 -0.89164866]\n",
      " [ 0.40106731  0.3995843  -0.64292566  1.67000545]\n",
      " [ 0.40106731 -0.3995843  -0.64292566 -1.67000545]\n",
      " [ 0.23423487 -0.54557077  0.90877516  0.89164866]]\n"
     ]
    }
   ],
   "source": [
    "from pyscf import gto, scf\n",
    "\n",
    "# Define H4 chain geometry (linear chain)\n",
    "mol = gto.M(\n",
    "    atom='''\n",
    "        H  0.0  0.0  0.0\n",
    "        H  0.0  0.0  0.74\n",
    "        H  0.0  0.0  1.48\n",
    "        H  0.0  0.0  2.22\n",
    "    ''',\n",
    "    basis='sto-3g',\n",
    "    spin=0,  # Singlet state (closed-shell)\n",
    "    charge=0\n",
    ")\n",
    "\n",
    "# Perform Hartree-Fock calculation\n",
    "mf = scf.RHF(mol)\n",
    "mf.kernel()\n",
    "\n",
    "# Extract MO coefficients\n",
    "mo_coefficients = mf.mo_coeff\n",
    "print(\"Molecular Orbital Coefficients:\")\n",
    "print(mo_coefficients)\n"
   ]
  },
  {
   "cell_type": "code",
   "execution_count": 3,
   "metadata": {},
   "outputs": [
    {
     "name": "stdout",
     "output_type": "stream",
     "text": [
      "converged SCF energy = -2.09789961208328\n",
      "Molecular Orbital Coefficients:\n",
      "[[ 0.23423487  0.54557077  0.90877516  0.89164866]\n",
      " [ 0.40106731  0.3995843  -0.64292566 -1.67000545]\n",
      " [ 0.40106731 -0.3995843  -0.64292566  1.67000545]\n",
      " [ 0.23423487 -0.54557077  0.90877516 -0.89164866]]\n"
     ]
    }
   ],
   "source": [
    "from pyscf import gto, scf\n",
    "\n",
    "# Define H4 chain geometry (linear chain)\n",
    "mol = gto.M(\n",
    "    atom='''\n",
    "        H  0.0  0.0  0.0\n",
    "        H  0.0  0.0  0.74\n",
    "        H  0.0  0.0  1.48\n",
    "        H  0.0  0.0  2.22\n",
    "    ''',\n",
    "    basis='sto-3g',\n",
    "    spin=0,  # Singlet state (closed-shell)\n",
    "    charge=0\n",
    ")\n",
    "\n",
    "# Perform Hartree-Fock calculation\n",
    "mf = scf.RHF(mol)\n",
    "mf.conv_tol = 1e-12\n",
    "mf.kernel()\n",
    "\n",
    "# Extract MO coefficients\n",
    "mo_coefficients = mf.mo_coeff\n",
    "print(\"Molecular Orbital Coefficients:\")\n",
    "print(mo_coefficients)"
   ]
  },
  {
   "cell_type": "code",
   "execution_count": 5,
   "metadata": {},
   "outputs": [
    {
     "name": "stdout",
     "output_type": "stream",
     "text": [
      "(10, 10)\n"
     ]
    }
   ],
   "source": [
    "import json\n",
    "import torch\n",
    "import numpy as np\n",
    "\n",
    "# Load matrix from JSON\n",
    "with open('opt_basis.json', 'r') as f:\n",
    "    data = json.load(f)\n",
    "print(np.array(data).shape)"
   ]
  },
  {
   "cell_type": "code",
   "execution_count": 8,
   "metadata": {},
   "outputs": [
    {
     "name": "stdout",
     "output_type": "stream",
     "text": [
      "-1.1633744903192427\n"
     ]
    }
   ],
   "source": [
    "from downfolding_methods_pytorch import nelec, norbs, fock_downfolding, Solve_fermionHam, perm_orca2pyscf\n",
    "from pyscf import gto, scf, dft\n",
    "import scipy\n",
    "\n",
    "atoms = 'H2.xyz'\n",
    "S = gto.M(\n",
    "    atom=atoms,  # Atomic symbols and coordinates\n",
    "    basis=\"cc-pVDZ\"\n",
    ").intor(\"int1e_ovlp\")\n",
    "sqrtS = scipy.linalg.sqrtm(S).real\n",
    "perm = perm_orca2pyscf(\n",
    "    atom=atoms,  # Atomic symbols and coordinates\n",
    "    basis=\"cc-pVDZ\"\n",
    ")\n",
    "\n",
    "proj = np.array(data).T\n",
    "proj = perm @ proj @ perm.T\n",
    "proj = sqrtS @ proj @ sqrtS\n",
    "\n",
    "n_fold = norbs(atom=atoms,basis='cc-pVDZ')\n",
    "ham = fock_downfolding(n_fold,('self-defined',-proj),False,atom=atoms, basis='cc-pVDZ')\n",
    "E = Solve_fermionHam(ham.Ham_const, ham.int_1bd, ham.int_2bd, nele=nelec(atom=atoms, basis='sto-3G'), method='FCI')[0]\n",
    "print(E)\n"
   ]
  },
  {
   "cell_type": "code",
   "execution_count": 9,
   "metadata": {},
   "outputs": [
    {
     "name": "stdout",
     "output_type": "stream",
     "text": [
      "converged SCF energy = -1.12870009355644\n",
      "FCI Energy (cc-pVDZ) for H2: -1.1633744903192413\n"
     ]
    }
   ],
   "source": [
    "from pyscf import gto, scf, fci\n",
    "\n",
    "# 1. Define H2 molecule\n",
    "mol = gto.Mole()\n",
    "mol.atom = 'H 0 0 0; H 0 0 0.74'  # 0.74 angstrom ~ equilibrium distance\n",
    "mol.basis = 'cc-pvdz'\n",
    "mol.spin = 0  # Singlet\n",
    "mol.charge = 0\n",
    "mol.build()\n",
    "\n",
    "# 2. Run Hartree-Fock\n",
    "mf = scf.RHF(mol)\n",
    "mf.kernel()\n",
    "\n",
    "# 3. Run FCI\n",
    "cisolver = fci.FCI(mol, mf.mo_coeff)\n",
    "fci_energy, fci_vector = cisolver.kernel()\n",
    "\n",
    "# 4. Print result\n",
    "print(\"FCI Energy (cc-pVDZ) for H2:\", fci_energy)\n"
   ]
  },
  {
   "cell_type": "code",
   "execution_count": null,
   "metadata": {},
   "outputs": [],
   "source": []
  }
 ],
 "metadata": {
  "kernelspec": {
   "display_name": "ML_DFT",
   "language": "python",
   "name": "python3"
  },
  "language_info": {
   "codemirror_mode": {
    "name": "ipython",
    "version": 3
   },
   "file_extension": ".py",
   "mimetype": "text/x-python",
   "name": "python",
   "nbconvert_exporter": "python",
   "pygments_lexer": "ipython3",
   "version": "3.8.19"
  }
 },
 "nbformat": 4,
 "nbformat_minor": 2
}
