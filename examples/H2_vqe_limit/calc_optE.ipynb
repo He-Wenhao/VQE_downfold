{
 "cells": [
  {
   "cell_type": "code",
   "execution_count": 1,
   "metadata": {},
   "outputs": [],
   "source": [
    "import json\n",
    "import sys\n",
    "import os\n",
    "sys.path.append('../..')\n",
    "from downfolding_methods import norbs, fock_downfolding, Solve_fermionHam, JW_trans, Solve_qubitHam,E_optimized_basis"
   ]
  },
  {
   "cell_type": "code",
   "execution_count": 2,
   "metadata": {},
   "outputs": [],
   "source": [
    "\n",
    "def calc_FCI():\n",
    "    # Set molecule parameters.\n",
    "    bond_length_interval = 0.1\n",
    "\n",
    "    # Generate molecule at different bond lengths.\n",
    "    bond_lengths = []\n",
    "    name_energies = []\n",
    "    basis_l = [2,3,4,5]\n",
    "    for nbasis in basis_l:\n",
    "\n",
    "        bond_length = 0.74\n",
    "        bond_lengths += [bond_length]\n",
    "        geometry = 'H 0 0 0; H 0 0 '+str(bond_length)\n",
    "        #print(geometry)\n",
    "        E = E_optimized_basis(nbasis=nbasis,atom=geometry,basis='ccpVDZ')\n",
    "        print(E)\n",
    "        name_energies.append(E)\n",
    "        print('bond length',bond_length)\n",
    "    if os.path.isfile('res/res_opt.json'):\n",
    "        res = open('res/res_opt.json')\n",
    "        res = json.load(res)\n",
    "    else:\n",
    "        res = {}\n",
    "    if 'nbasis' not in res:\n",
    "        res['nbasis'] = basis_l\n",
    "    res['opt'] = name_energies\n",
    "    with open('res/res_opt.json','w') as data_file:\n",
    "        json.dump(res,data_file)\n"
   ]
  },
  {
   "cell_type": "code",
   "execution_count": 3,
   "metadata": {},
   "outputs": [
    {
     "name": "stderr",
     "output_type": "stream",
     "text": [
      "Overwritten attributes  get_hcore get_ovlp  of <class 'pyscf.scf.hf.RHF'>\n"
     ]
    },
    {
     "name": "stdout",
     "output_type": "stream",
     "text": [
      "-1.146874333869507\n",
      "bond length 0.74\n",
      "-1.1526506603853612\n",
      "bond length 0.74\n",
      "-1.1529788325525832\n",
      "bond length 0.74\n",
      "-1.1577268278944464\n",
      "bond length 0.74\n"
     ]
    }
   ],
   "source": [
    "calc_FCI()"
   ]
  }
 ],
 "metadata": {
  "kernelspec": {
   "display_name": "ML_DFT",
   "language": "python",
   "name": "python3"
  },
  "language_info": {
   "codemirror_mode": {
    "name": "ipython",
    "version": 3
   },
   "file_extension": ".py",
   "mimetype": "text/x-python",
   "name": "python",
   "nbconvert_exporter": "python",
   "pygments_lexer": "ipython3",
   "version": "3.8.19"
  }
 },
 "nbformat": 4,
 "nbformat_minor": 2
}
