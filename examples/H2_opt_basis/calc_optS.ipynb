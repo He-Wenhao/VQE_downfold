{
 "cells": [
  {
   "cell_type": "code",
   "execution_count": 1,
   "metadata": {},
   "outputs": [],
   "source": [
    "import json\n",
    "import sys\n",
    "import os\n",
    "sys.path.append('../..')\n",
    "from downfolding_methods import norbs, fock_downfolding, Solve_fermionHam, JW_trans, Solve_qubitHam,E_optimized_basis, S_optimized_basis_constraint"
   ]
  },
  {
   "cell_type": "code",
   "execution_count": 2,
   "metadata": {},
   "outputs": [],
   "source": [
    "\n",
    "def calc_FCI():\n",
    "    # Set molecule parameters.\n",
    "    bond_length_interval = 0.1\n",
    "    n_points = 25\n",
    "\n",
    "    # Generate molecule at different bond lengths.\n",
    "    bond_lengths = []\n",
    "    name_energies = []\n",
    "    for point in range(3, n_points + 1):\n",
    "        bond_length = bond_length_interval * point\n",
    "        bond_lengths += [bond_length]\n",
    "        geometry = 'H 0 0 0; H 0 0 '+str(bond_length)\n",
    "        #print(geometry)\n",
    "        E = S_optimized_basis_constraint(atom=geometry,basis='ccpVDZ')\n",
    "        name_energies.append(E)\n",
    "        print('bond length',bond_length)\n",
    "    if os.path.isfile('res/res_optS.json'):\n",
    "        res = open('res/res_optS.json')\n",
    "        res = json.load(res)\n",
    "    else:\n",
    "        res = {}\n",
    "    if 'bond_lengths' not in res:\n",
    "        res['bond_lengths'] = bond_lengths\n",
    "    res['opt'] = name_energies\n",
    "    with open('res/res_optS.json','w') as data_file:\n",
    "        json.dump(res,data_file)\n"
   ]
  },
  {
   "cell_type": "code",
   "execution_count": 3,
   "metadata": {},
   "outputs": [
    {
     "name": "stderr",
     "output_type": "stream",
     "text": [
      "Overwritten attributes  get_ovlp get_hcore  of <class 'pyscf.scf.hf.RHF'>\n"
     ]
    },
    {
     "name": "stdout",
     "output_type": "stream",
     "text": [
      "bond length 0.30000000000000004\n",
      "bond length 0.4\n",
      "bond length 0.5\n",
      "bond length 0.6000000000000001\n",
      "bond length 0.7000000000000001\n",
      "bond length 0.8\n",
      "bond length 0.9\n",
      "bond length 1.0\n",
      "bond length 1.1\n",
      "bond length 1.2000000000000002\n",
      "bond length 1.3\n",
      "bond length 1.4000000000000001\n",
      "bond length 1.5\n",
      "bond length 1.6\n",
      "bond length 1.7000000000000002\n",
      "bond length 1.8\n",
      "bond length 1.9000000000000001\n",
      "bond length 2.0\n",
      "bond length 2.1\n",
      "bond length 2.2\n",
      "bond length 2.3000000000000003\n",
      "bond length 2.4000000000000004\n",
      "bond length 2.5\n"
     ]
    }
   ],
   "source": [
    "calc_FCI()"
   ]
  }
 ],
 "metadata": {
  "kernelspec": {
   "display_name": "ML_DFT",
   "language": "python",
   "name": "python3"
  },
  "language_info": {
   "codemirror_mode": {
    "name": "ipython",
    "version": 3
   },
   "file_extension": ".py",
   "mimetype": "text/x-python",
   "name": "python",
   "nbconvert_exporter": "python",
   "pygments_lexer": "ipython3",
   "version": "3.8.19"
  }
 },
 "nbformat": 4,
 "nbformat_minor": 2
}
