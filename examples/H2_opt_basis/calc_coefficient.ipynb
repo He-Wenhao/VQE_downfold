{
 "cells": [
  {
   "cell_type": "code",
   "execution_count": 1,
   "metadata": {},
   "outputs": [],
   "source": [
    "import json\n",
    "import sys\n",
    "import os\n",
    "sys.path.append('../..')\n",
    "from downfolding_methods import norbs, fock_downfolding, Solve_fermionHam, JW_trans, Solve_qubitHam"
   ]
  },
  {
   "cell_type": "code",
   "execution_count": 2,
   "metadata": {},
   "outputs": [],
   "source": [
    "\n",
    "        \n",
    "def calc_coeff(fock_method,original_basis,folded_basis,name):\n",
    "    # Set molecule parameters.\n",
    "    bond_length_interval = 0.1\n",
    "    n_points = 25\n",
    "\n",
    "    # Generate molecule at different bond lengths.\n",
    "    bond_lengths = []\n",
    "    name_energies = []\n",
    "    for point in range(3, n_points + 1):\n",
    "        bond_length = bond_length_interval * point\n",
    "        bond_lengths += [bond_length]\n",
    "        geometry = 'H 0 0 0; H 0 0 '+str(bond_length)\n",
    "        n_folded = norbs(atom=geometry,basis = folded_basis)\n",
    "        ham = fock_downfolding(n_folded=n_folded,fock_method=fock_method,QO=False,atom=geometry,basis = original_basis)\n",
    "        q_ham = JW_trans(ham.Ham_const,ham.int_1bd,ham.int_2bd)\n",
    "        co = q_ham.induced_norm()\n",
    "        name_energies.append(co)\n",
    "        print('bond length',bond_length)\n",
    "    if os.path.isfile('res/res_coeff.json'):\n",
    "        res = open('res/res_coeff.json')\n",
    "        res = json.load(res)\n",
    "    else:\n",
    "        res = {}\n",
    "    if 'bond_lengths' not in res:\n",
    "        res['bond_lengths'] = bond_lengths\n",
    "    res[name] = name_energies\n",
    "    with open('res/res_coeff.json','w') as data_file:\n",
    "        json.dump(res,data_file)"
   ]
  },
  {
   "cell_type": "code",
   "execution_count": 5,
   "metadata": {},
   "outputs": [
    {
     "name": "stdout",
     "output_type": "stream",
     "text": [
      "bond length 0.30000000000000004\n",
      "bond length 0.4\n",
      "bond length 0.5\n",
      "bond length 0.6000000000000001\n",
      "bond length 0.7000000000000001\n",
      "bond length 0.8\n",
      "bond length 0.9\n",
      "bond length 1.0\n",
      "bond length 1.1\n",
      "bond length 1.2000000000000002\n",
      "bond length 1.3\n",
      "bond length 1.4000000000000001\n",
      "bond length 1.5\n",
      "bond length 1.6\n",
      "bond length 1.7000000000000002\n",
      "bond length 1.8\n",
      "bond length 1.9000000000000001\n",
      "bond length 2.0\n",
      "bond length 2.1\n",
      "bond length 2.2\n",
      "bond length 2.3000000000000003\n",
      "bond length 2.4000000000000004\n",
      "bond length 2.5\n",
      "bond length 0.30000000000000004\n",
      "bond length 0.4\n",
      "bond length 0.5\n",
      "bond length 0.6000000000000001\n",
      "bond length 0.7000000000000001\n",
      "bond length 0.8\n"
     ]
    },
    {
     "ename": "KeyboardInterrupt",
     "evalue": "",
     "output_type": "error",
     "traceback": [
      "\u001b[0;31m---------------------------------------------------------------------------\u001b[0m",
      "\u001b[0;31mKeyboardInterrupt\u001b[0m                         Traceback (most recent call last)",
      "Cell \u001b[0;32mIn[5], line 2\u001b[0m\n\u001b[1;32m      1\u001b[0m calc_coeff(\u001b[38;5;124m'\u001b[39m\u001b[38;5;124mHF\u001b[39m\u001b[38;5;124m'\u001b[39m,\u001b[38;5;124m'\u001b[39m\u001b[38;5;124msto-3G\u001b[39m\u001b[38;5;124m'\u001b[39m,\u001b[38;5;124m'\u001b[39m\u001b[38;5;124msto-3G\u001b[39m\u001b[38;5;124m'\u001b[39m,\u001b[38;5;124m'\u001b[39m\u001b[38;5;124msto-3Gs\u001b[39m\u001b[38;5;124m'\u001b[39m)\n\u001b[0;32m----> 2\u001b[0m \u001b[43mcalc_coeff\u001b[49m\u001b[43m(\u001b[49m\u001b[38;5;124;43m'\u001b[39;49m\u001b[38;5;124;43mHF\u001b[39;49m\u001b[38;5;124;43m'\u001b[39;49m\u001b[43m,\u001b[49m\u001b[38;5;124;43m'\u001b[39;49m\u001b[38;5;124;43mccpVDZ\u001b[39;49m\u001b[38;5;124;43m'\u001b[39;49m\u001b[43m,\u001b[49m\u001b[38;5;124;43m'\u001b[39;49m\u001b[38;5;124;43msto-3G\u001b[39;49m\u001b[38;5;124;43m'\u001b[39;49m\u001b[43m,\u001b[49m\u001b[38;5;124;43m'\u001b[39;49m\u001b[38;5;124;43mHFpVDZs\u001b[39;49m\u001b[38;5;124;43m'\u001b[39;49m\u001b[43m)\u001b[49m\n\u001b[1;32m      3\u001b[0m calc_coeff(\u001b[38;5;124m'\u001b[39m\u001b[38;5;124mlda,vwn\u001b[39m\u001b[38;5;124m'\u001b[39m,\u001b[38;5;124m'\u001b[39m\u001b[38;5;124mccpVDZ\u001b[39m\u001b[38;5;124m'\u001b[39m,\u001b[38;5;124m'\u001b[39m\u001b[38;5;124msto-3G\u001b[39m\u001b[38;5;124m'\u001b[39m,\u001b[38;5;124m'\u001b[39m\u001b[38;5;124mKSpVDZs\u001b[39m\u001b[38;5;124m'\u001b[39m)\n\u001b[1;32m      4\u001b[0m calc_coeff(\u001b[38;5;124m'\u001b[39m\u001b[38;5;124mEGNN\u001b[39m\u001b[38;5;124m'\u001b[39m,\u001b[38;5;124m'\u001b[39m\u001b[38;5;124mccpVDZ\u001b[39m\u001b[38;5;124m'\u001b[39m,\u001b[38;5;124m'\u001b[39m\u001b[38;5;124msto-3G\u001b[39m\u001b[38;5;124m'\u001b[39m,\u001b[38;5;124m'\u001b[39m\u001b[38;5;124mEGNNpVDZs\u001b[39m\u001b[38;5;124m'\u001b[39m)\n",
      "Cell \u001b[0;32mIn[2], line 14\u001b[0m, in \u001b[0;36mcalc_coeff\u001b[0;34m(fock_method, original_basis, folded_basis, name)\u001b[0m\n\u001b[1;32m     12\u001b[0m geometry \u001b[38;5;241m=\u001b[39m \u001b[38;5;124m'\u001b[39m\u001b[38;5;124mH 0 0 0; H 0 0 \u001b[39m\u001b[38;5;124m'\u001b[39m\u001b[38;5;241m+\u001b[39m\u001b[38;5;28mstr\u001b[39m(bond_length)\n\u001b[1;32m     13\u001b[0m n_folded \u001b[38;5;241m=\u001b[39m norbs(atom\u001b[38;5;241m=\u001b[39mgeometry,basis \u001b[38;5;241m=\u001b[39m folded_basis)\n\u001b[0;32m---> 14\u001b[0m ham \u001b[38;5;241m=\u001b[39m \u001b[43mfock_downfolding\u001b[49m\u001b[43m(\u001b[49m\u001b[43mn_folded\u001b[49m\u001b[38;5;241;43m=\u001b[39;49m\u001b[43mn_folded\u001b[49m\u001b[43m,\u001b[49m\u001b[43mfock_method\u001b[49m\u001b[38;5;241;43m=\u001b[39;49m\u001b[43mfock_method\u001b[49m\u001b[43m,\u001b[49m\u001b[43mQO\u001b[49m\u001b[38;5;241;43m=\u001b[39;49m\u001b[38;5;28;43;01mFalse\u001b[39;49;00m\u001b[43m,\u001b[49m\u001b[43matom\u001b[49m\u001b[38;5;241;43m=\u001b[39;49m\u001b[43mgeometry\u001b[49m\u001b[43m,\u001b[49m\u001b[43mbasis\u001b[49m\u001b[43m \u001b[49m\u001b[38;5;241;43m=\u001b[39;49m\u001b[43m \u001b[49m\u001b[43moriginal_basis\u001b[49m\u001b[43m)\u001b[49m\n\u001b[1;32m     15\u001b[0m q_ham \u001b[38;5;241m=\u001b[39m JW_trans(ham\u001b[38;5;241m.\u001b[39mHam_const,ham\u001b[38;5;241m.\u001b[39mint_1bd,ham\u001b[38;5;241m.\u001b[39mint_2bd)\n\u001b[1;32m     16\u001b[0m co \u001b[38;5;241m=\u001b[39m q_ham\u001b[38;5;241m.\u001b[39minduced_norm()\n",
      "File \u001b[0;32m~/Documents/wenhaohe/research/VQE_downfold_rebuild/examples/H2_dissociation/../../downfolding_methods.py:75\u001b[0m, in \u001b[0;36mfock_downfolding\u001b[0;34m(n_folded, fock_method, QO, **kargs)\u001b[0m\n\u001b[1;32m     73\u001b[0m ham\u001b[38;5;241m.\u001b[39mmol\u001b[38;5;241m.\u001b[39mverbose \u001b[38;5;241m=\u001b[39m \u001b[38;5;241m0\u001b[39m\n\u001b[1;32m     74\u001b[0m \u001b[38;5;28;01mif\u001b[39;00m fock_method \u001b[38;5;241m==\u001b[39m \u001b[38;5;124m'\u001b[39m\u001b[38;5;124mHF\u001b[39m\u001b[38;5;124m'\u001b[39m:\n\u001b[0;32m---> 75\u001b[0m     myhf \u001b[38;5;241m=\u001b[39m \u001b[43mham\u001b[49m\u001b[38;5;241;43m.\u001b[39;49m\u001b[43mmol\u001b[49m\u001b[38;5;241;43m.\u001b[39;49m\u001b[43mRHF\u001b[49m\u001b[43m(\u001b[49m\u001b[43m)\u001b[49m\u001b[38;5;241;43m.\u001b[39;49m\u001b[43mrun\u001b[49m\u001b[43m(\u001b[49m\u001b[43m)\u001b[49m\n\u001b[1;32m     76\u001b[0m     fock_AO \u001b[38;5;241m=\u001b[39m myhf\u001b[38;5;241m.\u001b[39mget_fock()\n\u001b[1;32m     77\u001b[0m \u001b[38;5;28;01melif\u001b[39;00m fock_method \u001b[38;5;241m==\u001b[39m \u001b[38;5;124m'\u001b[39m\u001b[38;5;124mB3LYP\u001b[39m\u001b[38;5;124m'\u001b[39m:\n",
      "File \u001b[0;32m~/anaconda3/envs/ML_DFT/lib/python3.8/site-packages/pyscf/lib/misc.py:612\u001b[0m, in \u001b[0;36mStreamObject.run\u001b[0;34m(self, *args, **kwargs)\u001b[0m\n\u001b[1;32m    605\u001b[0m \u001b[38;5;250m\u001b[39m\u001b[38;5;124;03m'''\u001b[39;00m\n\u001b[1;32m    606\u001b[0m \u001b[38;5;124;03mCall the kernel function of current object.  `args` will be passed\u001b[39;00m\n\u001b[1;32m    607\u001b[0m \u001b[38;5;124;03mto kernel function.  `kwargs` will be used to update the attributes of\u001b[39;00m\n\u001b[1;32m    608\u001b[0m \u001b[38;5;124;03mcurrent object.  The return value of method run is the object itself.\u001b[39;00m\n\u001b[1;32m    609\u001b[0m \u001b[38;5;124;03mThis allows a series of functions/methods to be executed in pipe.\u001b[39;00m\n\u001b[1;32m    610\u001b[0m \u001b[38;5;124;03m'''\u001b[39;00m\n\u001b[1;32m    611\u001b[0m \u001b[38;5;28mself\u001b[39m\u001b[38;5;241m.\u001b[39mset(\u001b[38;5;241m*\u001b[39m\u001b[38;5;241m*\u001b[39mkwargs)\n\u001b[0;32m--> 612\u001b[0m \u001b[38;5;28;43mself\u001b[39;49m\u001b[38;5;241;43m.\u001b[39;49m\u001b[43mkernel\u001b[49m\u001b[43m(\u001b[49m\u001b[38;5;241;43m*\u001b[39;49m\u001b[43margs\u001b[49m\u001b[43m)\u001b[49m\n\u001b[1;32m    613\u001b[0m \u001b[38;5;28;01mreturn\u001b[39;00m \u001b[38;5;28mself\u001b[39m\n",
      "File \u001b[0;32m<string>:2\u001b[0m, in \u001b[0;36mkernel\u001b[0;34m(self, dm0, **kwargs)\u001b[0m\n",
      "File \u001b[0;32m~/anaconda3/envs/ML_DFT/lib/python3.8/site-packages/pyscf/scf/hf.py:1787\u001b[0m, in \u001b[0;36mSCF.scf\u001b[0;34m(self, dm0, **kwargs)\u001b[0m\n\u001b[1;32m   1782\u001b[0m \u001b[38;5;28mself\u001b[39m\u001b[38;5;241m.\u001b[39mbuild(\u001b[38;5;28mself\u001b[39m\u001b[38;5;241m.\u001b[39mmol)\n\u001b[1;32m   1784\u001b[0m \u001b[38;5;28;01mif\u001b[39;00m \u001b[38;5;28mself\u001b[39m\u001b[38;5;241m.\u001b[39mmax_cycle \u001b[38;5;241m>\u001b[39m \u001b[38;5;241m0\u001b[39m \u001b[38;5;129;01mor\u001b[39;00m \u001b[38;5;28mself\u001b[39m\u001b[38;5;241m.\u001b[39mmo_coeff \u001b[38;5;129;01mis\u001b[39;00m \u001b[38;5;28;01mNone\u001b[39;00m:\n\u001b[1;32m   1785\u001b[0m     \u001b[38;5;28mself\u001b[39m\u001b[38;5;241m.\u001b[39mconverged, \u001b[38;5;28mself\u001b[39m\u001b[38;5;241m.\u001b[39me_tot, \\\n\u001b[1;32m   1786\u001b[0m             \u001b[38;5;28mself\u001b[39m\u001b[38;5;241m.\u001b[39mmo_energy, \u001b[38;5;28mself\u001b[39m\u001b[38;5;241m.\u001b[39mmo_coeff, \u001b[38;5;28mself\u001b[39m\u001b[38;5;241m.\u001b[39mmo_occ \u001b[38;5;241m=\u001b[39m \\\n\u001b[0;32m-> 1787\u001b[0m             \u001b[43mkernel\u001b[49m\u001b[43m(\u001b[49m\u001b[38;5;28;43mself\u001b[39;49m\u001b[43m,\u001b[49m\u001b[43m \u001b[49m\u001b[38;5;28;43mself\u001b[39;49m\u001b[38;5;241;43m.\u001b[39;49m\u001b[43mconv_tol\u001b[49m\u001b[43m,\u001b[49m\u001b[43m \u001b[49m\u001b[38;5;28;43mself\u001b[39;49m\u001b[38;5;241;43m.\u001b[39;49m\u001b[43mconv_tol_grad\u001b[49m\u001b[43m,\u001b[49m\n\u001b[1;32m   1788\u001b[0m \u001b[43m                   \u001b[49m\u001b[43mdm0\u001b[49m\u001b[38;5;241;43m=\u001b[39;49m\u001b[43mdm0\u001b[49m\u001b[43m,\u001b[49m\u001b[43m \u001b[49m\u001b[43mcallback\u001b[49m\u001b[38;5;241;43m=\u001b[39;49m\u001b[38;5;28;43mself\u001b[39;49m\u001b[38;5;241;43m.\u001b[39;49m\u001b[43mcallback\u001b[49m\u001b[43m,\u001b[49m\n\u001b[1;32m   1789\u001b[0m \u001b[43m                   \u001b[49m\u001b[43mconv_check\u001b[49m\u001b[38;5;241;43m=\u001b[39;49m\u001b[38;5;28;43mself\u001b[39;49m\u001b[38;5;241;43m.\u001b[39;49m\u001b[43mconv_check\u001b[49m\u001b[43m,\u001b[49m\u001b[43m \u001b[49m\u001b[38;5;241;43m*\u001b[39;49m\u001b[38;5;241;43m*\u001b[39;49m\u001b[43mkwargs\u001b[49m\u001b[43m)\u001b[49m\n\u001b[1;32m   1790\u001b[0m \u001b[38;5;28;01melse\u001b[39;00m:\n\u001b[1;32m   1791\u001b[0m     \u001b[38;5;66;03m# Avoid to update SCF orbitals in the non-SCF initialization\u001b[39;00m\n\u001b[1;32m   1792\u001b[0m     \u001b[38;5;66;03m# (issue #495).  But run regular SCF for initial guess if SCF was\u001b[39;00m\n\u001b[1;32m   1793\u001b[0m     \u001b[38;5;66;03m# not initialized.\u001b[39;00m\n\u001b[1;32m   1794\u001b[0m     \u001b[38;5;28mself\u001b[39m\u001b[38;5;241m.\u001b[39me_tot \u001b[38;5;241m=\u001b[39m kernel(\u001b[38;5;28mself\u001b[39m, \u001b[38;5;28mself\u001b[39m\u001b[38;5;241m.\u001b[39mconv_tol, \u001b[38;5;28mself\u001b[39m\u001b[38;5;241m.\u001b[39mconv_tol_grad,\n\u001b[1;32m   1795\u001b[0m                         dm0\u001b[38;5;241m=\u001b[39mdm0, callback\u001b[38;5;241m=\u001b[39m\u001b[38;5;28mself\u001b[39m\u001b[38;5;241m.\u001b[39mcallback,\n\u001b[1;32m   1796\u001b[0m                         conv_check\u001b[38;5;241m=\u001b[39m\u001b[38;5;28mself\u001b[39m\u001b[38;5;241m.\u001b[39mconv_check, \u001b[38;5;241m*\u001b[39m\u001b[38;5;241m*\u001b[39mkwargs)[\u001b[38;5;241m1\u001b[39m]\n",
      "File \u001b[0;32m~/anaconda3/envs/ML_DFT/lib/python3.8/site-packages/pyscf/scf/hf.py:175\u001b[0m, in \u001b[0;36mkernel\u001b[0;34m(mf, conv_tol, conv_tol_grad, dump_chk, dm0, callback, conv_check, **kwargs)\u001b[0m\n\u001b[1;32m    173\u001b[0m mo_occ \u001b[38;5;241m=\u001b[39m mf\u001b[38;5;241m.\u001b[39mget_occ(mo_energy, mo_coeff)\n\u001b[1;32m    174\u001b[0m dm \u001b[38;5;241m=\u001b[39m mf\u001b[38;5;241m.\u001b[39mmake_rdm1(mo_coeff, mo_occ)\n\u001b[0;32m--> 175\u001b[0m vhf \u001b[38;5;241m=\u001b[39m \u001b[43mmf\u001b[49m\u001b[38;5;241;43m.\u001b[39;49m\u001b[43mget_veff\u001b[49m\u001b[43m(\u001b[49m\u001b[43mmol\u001b[49m\u001b[43m,\u001b[49m\u001b[43m \u001b[49m\u001b[43mdm\u001b[49m\u001b[43m,\u001b[49m\u001b[43m \u001b[49m\u001b[43mdm_last\u001b[49m\u001b[43m,\u001b[49m\u001b[43m \u001b[49m\u001b[43mvhf\u001b[49m\u001b[43m)\u001b[49m\n\u001b[1;32m    176\u001b[0m e_tot \u001b[38;5;241m=\u001b[39m mf\u001b[38;5;241m.\u001b[39menergy_tot(dm, h1e, vhf)\n\u001b[1;32m    178\u001b[0m \u001b[38;5;66;03m# Here Fock matrix is h1e + vhf, without DIIS.  Calling get_fock\u001b[39;00m\n\u001b[1;32m    179\u001b[0m \u001b[38;5;66;03m# instead of the statement \"fock = h1e + vhf\" because Fock matrix may\u001b[39;00m\n\u001b[1;32m    180\u001b[0m \u001b[38;5;66;03m# be modified in some methods.\u001b[39;00m\n",
      "File \u001b[0;32m~/anaconda3/envs/ML_DFT/lib/python3.8/site-packages/pyscf/scf/hf.py:2146\u001b[0m, in \u001b[0;36mRHF.get_veff\u001b[0;34m(self, mol, dm, dm_last, vhf_last, hermi)\u001b[0m\n\u001b[1;32m   2144\u001b[0m \u001b[38;5;28;01mif\u001b[39;00m dm \u001b[38;5;129;01mis\u001b[39;00m \u001b[38;5;28;01mNone\u001b[39;00m: dm \u001b[38;5;241m=\u001b[39m \u001b[38;5;28mself\u001b[39m\u001b[38;5;241m.\u001b[39mmake_rdm1()\n\u001b[1;32m   2145\u001b[0m \u001b[38;5;28;01mif\u001b[39;00m \u001b[38;5;28mself\u001b[39m\u001b[38;5;241m.\u001b[39m_eri \u001b[38;5;129;01mis\u001b[39;00m \u001b[38;5;129;01mnot\u001b[39;00m \u001b[38;5;28;01mNone\u001b[39;00m \u001b[38;5;129;01mor\u001b[39;00m \u001b[38;5;129;01mnot\u001b[39;00m \u001b[38;5;28mself\u001b[39m\u001b[38;5;241m.\u001b[39mdirect_scf:\n\u001b[0;32m-> 2146\u001b[0m     vj, vk \u001b[38;5;241m=\u001b[39m \u001b[38;5;28;43mself\u001b[39;49m\u001b[38;5;241;43m.\u001b[39;49m\u001b[43mget_jk\u001b[49m\u001b[43m(\u001b[49m\u001b[43mmol\u001b[49m\u001b[43m,\u001b[49m\u001b[43m \u001b[49m\u001b[43mdm\u001b[49m\u001b[43m,\u001b[49m\u001b[43m \u001b[49m\u001b[43mhermi\u001b[49m\u001b[43m)\u001b[49m\n\u001b[1;32m   2147\u001b[0m     vhf \u001b[38;5;241m=\u001b[39m vj \u001b[38;5;241m-\u001b[39m vk \u001b[38;5;241m*\u001b[39m \u001b[38;5;241m.5\u001b[39m\n\u001b[1;32m   2148\u001b[0m \u001b[38;5;28;01melse\u001b[39;00m:\n",
      "File \u001b[0;32m~/anaconda3/envs/ML_DFT/lib/python3.8/site-packages/pyscf/scf/hf.py:2136\u001b[0m, in \u001b[0;36mRHF.get_jk\u001b[0;34m(self, mol, dm, hermi, with_j, with_k, omega)\u001b[0m\n\u001b[1;32m   2134\u001b[0m     \u001b[38;5;28;01mif\u001b[39;00m \u001b[38;5;28mself\u001b[39m\u001b[38;5;241m.\u001b[39m_eri \u001b[38;5;129;01mis\u001b[39;00m \u001b[38;5;28;01mNone\u001b[39;00m:\n\u001b[1;32m   2135\u001b[0m         \u001b[38;5;28mself\u001b[39m\u001b[38;5;241m.\u001b[39m_eri \u001b[38;5;241m=\u001b[39m mol\u001b[38;5;241m.\u001b[39mintor(\u001b[38;5;124m'\u001b[39m\u001b[38;5;124mint2e\u001b[39m\u001b[38;5;124m'\u001b[39m, aosym\u001b[38;5;241m=\u001b[39m\u001b[38;5;124m'\u001b[39m\u001b[38;5;124ms8\u001b[39m\u001b[38;5;124m'\u001b[39m)\n\u001b[0;32m-> 2136\u001b[0m     vj, vk \u001b[38;5;241m=\u001b[39m \u001b[43mdot_eri_dm\u001b[49m\u001b[43m(\u001b[49m\u001b[38;5;28;43mself\u001b[39;49m\u001b[38;5;241;43m.\u001b[39;49m\u001b[43m_eri\u001b[49m\u001b[43m,\u001b[49m\u001b[43m \u001b[49m\u001b[43mdm\u001b[49m\u001b[43m,\u001b[49m\u001b[43m \u001b[49m\u001b[43mhermi\u001b[49m\u001b[43m,\u001b[49m\u001b[43m \u001b[49m\u001b[43mwith_j\u001b[49m\u001b[43m,\u001b[49m\u001b[43m \u001b[49m\u001b[43mwith_k\u001b[49m\u001b[43m)\u001b[49m\n\u001b[1;32m   2137\u001b[0m \u001b[38;5;28;01melse\u001b[39;00m:\n\u001b[1;32m   2138\u001b[0m     vj, vk \u001b[38;5;241m=\u001b[39m SCF\u001b[38;5;241m.\u001b[39mget_jk(\u001b[38;5;28mself\u001b[39m, mol, dm, hermi, with_j, with_k, omega)\n",
      "File \u001b[0;32m~/anaconda3/envs/ML_DFT/lib/python3.8/site-packages/pyscf/scf/hf.py:850\u001b[0m, in \u001b[0;36mdot_eri_dm\u001b[0;34m(eri, dm, hermi, with_j, with_k)\u001b[0m\n\u001b[1;32m    848\u001b[0m         vk \u001b[38;5;241m=\u001b[39m vk\u001b[38;5;241m.\u001b[39mreshape(dm\u001b[38;5;241m.\u001b[39mshape)\n\u001b[1;32m    849\u001b[0m \u001b[38;5;28;01melse\u001b[39;00m:\n\u001b[0;32m--> 850\u001b[0m     vj, vk \u001b[38;5;241m=\u001b[39m \u001b[43m_vhf\u001b[49m\u001b[38;5;241;43m.\u001b[39;49m\u001b[43mincore\u001b[49m\u001b[43m(\u001b[49m\u001b[43meri\u001b[49m\u001b[43m,\u001b[49m\u001b[43m \u001b[49m\u001b[43mdm\u001b[49m\u001b[38;5;241;43m.\u001b[39;49m\u001b[43mreal\u001b[49m\u001b[43m,\u001b[49m\u001b[43m \u001b[49m\u001b[43mhermi\u001b[49m\u001b[43m,\u001b[49m\u001b[43m \u001b[49m\u001b[43mwith_j\u001b[49m\u001b[43m,\u001b[49m\u001b[43m \u001b[49m\u001b[43mwith_k\u001b[49m\u001b[43m)\u001b[49m\n\u001b[1;32m    851\u001b[0m     \u001b[38;5;28;01mif\u001b[39;00m dm\u001b[38;5;241m.\u001b[39mdtype \u001b[38;5;241m==\u001b[39m numpy\u001b[38;5;241m.\u001b[39mcomplex128:\n\u001b[1;32m    852\u001b[0m         vs \u001b[38;5;241m=\u001b[39m _vhf\u001b[38;5;241m.\u001b[39mincore(eri, dm\u001b[38;5;241m.\u001b[39mimag, \u001b[38;5;241m0\u001b[39m, with_j, with_k)\n",
      "File \u001b[0;32m~/anaconda3/envs/ML_DFT/lib/python3.8/site-packages/pyscf/scf/_vhf.py:361\u001b[0m, in \u001b[0;36mincore\u001b[0;34m(eri, dms, hermi, with_j, with_k)\u001b[0m\n\u001b[1;32m    359\u001b[0m \u001b[38;5;28;01mif\u001b[39;00m with_j:\n\u001b[1;32m    360\u001b[0m     fvj \u001b[38;5;241m=\u001b[39m _fpointer(\u001b[38;5;124m'\u001b[39m\u001b[38;5;124mCVHFics8_tridm_vj\u001b[39m\u001b[38;5;124m'\u001b[39m)\n\u001b[0;32m--> 361\u001b[0m     tridms \u001b[38;5;241m=\u001b[39m \u001b[43mlib\u001b[49m\u001b[38;5;241;43m.\u001b[39;49m\u001b[43mpack_tril\u001b[49m\u001b[43m(\u001b[49m\u001b[43mlib\u001b[49m\u001b[38;5;241;43m.\u001b[39;49m\u001b[43mhermi_sum\u001b[49m\u001b[43m(\u001b[49m\u001b[43mdms\u001b[49m\u001b[43m,\u001b[49m\u001b[43m \u001b[49m\u001b[43maxes\u001b[49m\u001b[38;5;241;43m=\u001b[39;49m\u001b[43m(\u001b[49m\u001b[38;5;241;43m0\u001b[39;49m\u001b[43m,\u001b[49m\u001b[38;5;241;43m2\u001b[39;49m\u001b[43m,\u001b[49m\u001b[38;5;241;43m1\u001b[39;49m\u001b[43m)\u001b[49m\u001b[43m)\u001b[49m\u001b[43m)\u001b[49m\n\u001b[1;32m    362\u001b[0m     idx \u001b[38;5;241m=\u001b[39m numpy\u001b[38;5;241m.\u001b[39marange(nao)\n\u001b[1;32m    363\u001b[0m     tridms[:,idx\u001b[38;5;241m*\u001b[39m(idx\u001b[38;5;241m+\u001b[39m\u001b[38;5;241m1\u001b[39m)\u001b[38;5;241m/\u001b[39m\u001b[38;5;241m/\u001b[39m\u001b[38;5;241m2\u001b[39m\u001b[38;5;241m+\u001b[39midx] \u001b[38;5;241m*\u001b[39m\u001b[38;5;241m=\u001b[39m \u001b[38;5;241m.5\u001b[39m\n",
      "File \u001b[0;32m~/anaconda3/envs/ML_DFT/lib/python3.8/site-packages/pyscf/lib/numpy_helper.py:286\u001b[0m, in \u001b[0;36mpack_tril\u001b[0;34m(mat, axis, out)\u001b[0m\n\u001b[1;32m    283\u001b[0m         out[:] \u001b[38;5;241m=\u001b[39m mat[numpy\u001b[38;5;241m.\u001b[39mtril_indices(nd)]\n\u001b[1;32m    284\u001b[0m         \u001b[38;5;28;01mreturn\u001b[39;00m out\n\u001b[0;32m--> 286\u001b[0m     \u001b[43mfn\u001b[49m\u001b[43m(\u001b[49m\u001b[43mctypes\u001b[49m\u001b[38;5;241;43m.\u001b[39;49m\u001b[43mc_int\u001b[49m\u001b[43m(\u001b[49m\u001b[43mcount\u001b[49m\u001b[43m)\u001b[49m\u001b[43m,\u001b[49m\u001b[43m \u001b[49m\u001b[43mctypes\u001b[49m\u001b[38;5;241;43m.\u001b[39;49m\u001b[43mc_int\u001b[49m\u001b[43m(\u001b[49m\u001b[43mnd\u001b[49m\u001b[43m)\u001b[49m\u001b[43m,\u001b[49m\n\u001b[1;32m    287\u001b[0m \u001b[43m       \u001b[49m\u001b[43mout\u001b[49m\u001b[38;5;241;43m.\u001b[39;49m\u001b[43mctypes\u001b[49m\u001b[38;5;241;43m.\u001b[39;49m\u001b[43mdata_as\u001b[49m\u001b[43m(\u001b[49m\u001b[43mctypes\u001b[49m\u001b[38;5;241;43m.\u001b[39;49m\u001b[43mc_void_p\u001b[49m\u001b[43m)\u001b[49m\u001b[43m,\u001b[49m\n\u001b[1;32m    288\u001b[0m \u001b[43m       \u001b[49m\u001b[43mmat\u001b[49m\u001b[38;5;241;43m.\u001b[39;49m\u001b[43mctypes\u001b[49m\u001b[38;5;241;43m.\u001b[39;49m\u001b[43mdata_as\u001b[49m\u001b[43m(\u001b[49m\u001b[43mctypes\u001b[49m\u001b[38;5;241;43m.\u001b[39;49m\u001b[43mc_void_p\u001b[49m\u001b[43m)\u001b[49m\u001b[43m)\u001b[49m\n\u001b[1;32m    289\u001b[0m     \u001b[38;5;28;01mreturn\u001b[39;00m out\n\u001b[1;32m    291\u001b[0m \u001b[38;5;28;01melse\u001b[39;00m:  \u001b[38;5;66;03m# pack the leading two dimension\u001b[39;00m\n",
      "\u001b[0;31mKeyboardInterrupt\u001b[0m: "
     ]
    }
   ],
   "source": [
    "calc_coeff('HF','sto-3G','sto-3G','sto-3Gs')\n",
    "calc_coeff('HF','ccpVDZ','sto-3G','HFpVDZs')\n",
    "calc_coeff('lda,vwn','ccpVDZ','sto-3G','KSpVDZs')\n",
    "calc_coeff('EGNN','ccpVDZ','sto-3G','EGNNpVDZs')\n",
    "calc_coeff('HF','ccpVDZ','ccpVDZ','fci_energies')"
   ]
  }
 ],
 "metadata": {
  "kernelspec": {
   "display_name": "ML_DFT",
   "language": "python",
   "name": "python3"
  },
  "language_info": {
   "codemirror_mode": {
    "name": "ipython",
    "version": 3
   },
   "file_extension": ".py",
   "mimetype": "text/x-python",
   "name": "python",
   "nbconvert_exporter": "python",
   "pygments_lexer": "ipython3",
   "version": "3.8.19"
  }
 },
 "nbformat": 4,
 "nbformat_minor": 2
}
