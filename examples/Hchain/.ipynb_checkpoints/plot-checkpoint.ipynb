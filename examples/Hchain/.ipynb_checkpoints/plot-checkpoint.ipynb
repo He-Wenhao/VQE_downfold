{
 "cells": [
  {
   "cell_type": "code",
   "execution_count": 1,
   "id": "9ad7ab09-e8a9-4280-aaad-26d6b927db34",
   "metadata": {},
   "outputs": [
    {
     "name": "stderr",
     "output_type": "stream",
     "text": [
      "Matplotlib created a temporary cache directory at /tmp/matplotlib-dj3spk5_ because the default path (/home/jovyan/.cache/matplotlib) is not a writable directory; it is highly recommended to set the MPLCONFIGDIR environment variable to a writable directory, in particular to speed up the import of Matplotlib and to better support multiprocessing.\n"
     ]
    },
    {
     "ename": "KeyboardInterrupt",
     "evalue": "",
     "output_type": "error",
     "traceback": [
      "\u001b[0;31m---------------------------------------------------------------------------\u001b[0m",
      "\u001b[0;31mKeyboardInterrupt\u001b[0m                         Traceback (most recent call last)",
      "Cell \u001b[0;32mIn[1], line 15\u001b[0m\n\u001b[1;32m     13\u001b[0m \u001b[38;5;66;03m# Read energy data from files\u001b[39;00m\n\u001b[1;32m     14\u001b[0m \u001b[38;5;28;01mfor\u001b[39;00m file_path \u001b[38;5;129;01min\u001b[39;00m file_pattern:\n\u001b[0;32m---> 15\u001b[0m     \u001b[38;5;28;01mif\u001b[39;00m \u001b[43mos\u001b[49m\u001b[38;5;241;43m.\u001b[39;49m\u001b[43mpath\u001b[49m\u001b[38;5;241;43m.\u001b[39;49m\u001b[43mexists\u001b[49m\u001b[43m(\u001b[49m\u001b[43mfile_path\u001b[49m\u001b[43m)\u001b[49m:  \u001b[38;5;66;03m# Ensure file exists\u001b[39;00m\n\u001b[1;32m     16\u001b[0m         \u001b[38;5;28;01mwith\u001b[39;00m \u001b[38;5;28mopen\u001b[39m(file_path, \u001b[38;5;124m'\u001b[39m\u001b[38;5;124mr\u001b[39m\u001b[38;5;124m'\u001b[39m) \u001b[38;5;28;01mas\u001b[39;00m f:\n\u001b[1;32m     17\u001b[0m             data \u001b[38;5;241m=\u001b[39m json\u001b[38;5;241m.\u001b[39mload(f)\n",
      "File \u001b[0;32m<frozen genericpath>:19\u001b[0m, in \u001b[0;36mexists\u001b[0;34m(path)\u001b[0m\n",
      "\u001b[0;31mKeyboardInterrupt\u001b[0m: "
     ]
    }
   ],
   "source": [
    "import json\n",
    "import os\n",
    "import numpy as np\n",
    "import matplotlib.pyplot as plt\n",
    "\n",
    "# Directory and file pattern\n",
    "file_pattern = [f\"H_chain_xyzs/H4/{i}/res_E.json\" for i in range(1000)]\n",
    "\n",
    "# Initialize containers for energies\n",
    "methods = [\"opt_E\", \"HF_E\", \"B3LYP_E\", \"sto-3G_E\"]\n",
    "energy_data = {method: [] for method in methods}\n",
    "\n",
    "# Read energy data from files\n",
    "for file_path in file_pattern:\n",
    "    if os.path.exists(file_path):  # Ensure file exists\n",
    "        with open(file_path, 'r') as f:\n",
    "            data = json.load(f)\n",
    "            for method in methods:\n",
    "                if method in data:  # Check if the method key exists in the dictionary\n",
    "                    energy_data[method].append(data[method])\n",
    "\n",
    "# Plot the frequency distribution for each method\n",
    "plt.figure(figsize=(10, 6))\n",
    "\n",
    "for method in methods:\n",
    "    if energy_data[method]:  # Ensure there's data to plot\n",
    "        # Plot the histogram as a density curve\n",
    "        plt.hist(\n",
    "            energy_data[method],\n",
    "            bins=50,\n",
    "            alpha=0.6,\n",
    "            label=method,\n",
    "            density=True,\n",
    "            histtype='step',  # Step histogram for clear overlapping\n",
    "            linewidth=1.5\n",
    "        )\n",
    "\n",
    "# Configure the plot\n",
    "plt.title(\"Frequency Distribution of Energy for Different Methods\")\n",
    "plt.xlabel(\"Energy (Hartree)\")\n",
    "plt.ylabel(\"Frequency (Normalized)\")\n",
    "plt.legend(loc=\"best\")\n",
    "plt.grid(True)\n",
    "\n",
    "# Save the plot as a file\n",
    "output_file = \"energy_distribution.png\"\n",
    "plt.tight_layout()\n",
    "plt.savefig(output_file, dpi=300)\n",
    "plt.close()\n",
    "\n",
    "print(f\"Figure saved as {output_file}\")\n"
   ]
  },
  {
   "cell_type": "code",
   "execution_count": null,
   "id": "b0f7ed62-43e6-48b1-aa1e-70a87f3bfa70",
   "metadata": {},
   "outputs": [],
   "source": []
  }
 ],
 "metadata": {
  "kernelspec": {
   "display_name": "Python 3",
   "language": "python",
   "name": "python3"
  },
  "language_info": {
   "codemirror_mode": {
    "name": "ipython",
    "version": 3
   },
   "file_extension": ".py",
   "mimetype": "text/x-python",
   "name": "python",
   "nbconvert_exporter": "python",
   "pygments_lexer": "ipython3",
   "version": "3.11.6"
  }
 },
 "nbformat": 4,
 "nbformat_minor": 5
}
