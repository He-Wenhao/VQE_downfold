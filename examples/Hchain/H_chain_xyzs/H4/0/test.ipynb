{
 "cells": [
  {
   "cell_type": "code",
   "execution_count": 1,
   "metadata": {},
   "outputs": [
    {
     "name": "stdout",
     "output_type": "stream",
     "text": [
      "converged SCF energy = -2.09672210516829\n",
      "Ground-state energy: -2.096722 Hartree\n"
     ]
    }
   ],
   "source": [
    "from pyscf import gto, scf\n",
    "\n",
    "# Define the molecular structure\n",
    "mol = gto.M(\n",
    "    atom=\"\"\"\n",
    "    H 0.826721 -0.188670 -0.062898\n",
    "    H 1.662864  0.131463 -0.108064\n",
    "    H 2.445909  0.089162  0.068569\n",
    "    H 3.273225 -0.138398 -0.012783\n",
    "    \"\"\",\n",
    "    basis='sto-3g',  # Basis set\n",
    "    spin=0,          # Total spin: 0 for a singlet\n",
    "    charge=0         # Neutral molecule\n",
    ")\n",
    "\n",
    "# Perform Hartree-Fock calculation\n",
    "hf = scf.RHF(mol)  # Restricted Hartree-Fock for a singlet\n",
    "energy = hf.kernel()\n",
    "\n",
    "print(f\"Ground-state energy: {energy:.6f} Hartree\")\n"
   ]
  },
  {
   "cell_type": "code",
   "execution_count": null,
   "metadata": {},
   "outputs": [],
   "source": []
  }
 ],
 "metadata": {
  "kernelspec": {
   "display_name": "ML_DFT",
   "language": "python",
   "name": "python3"
  },
  "language_info": {
   "codemirror_mode": {
    "name": "ipython",
    "version": 3
   },
   "file_extension": ".py",
   "mimetype": "text/x-python",
   "name": "python",
   "nbconvert_exporter": "python",
   "pygments_lexer": "ipython3",
   "version": "3.8.19"
  }
 },
 "nbformat": 4,
 "nbformat_minor": 2
}
